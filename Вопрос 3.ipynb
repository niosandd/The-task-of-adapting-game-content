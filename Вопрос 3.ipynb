{
 "cells": [
  {
   "cell_type": "markdown",
   "id": "ab21304e-9781-467a-afbd-0388e695730c",
   "metadata": {},
   "source": [
    "\n",
    "1. Horizon Zero Dawn – эта игра получила одну из самых лучших оценок и была продана множество копий в первое полугодие 2023 года. Для поиска и анализа я использовал Metacritic, так как он предоставляет достоверную информацию о рейтингах игр, а также много других ресурсов, таких как Steam, PlayStation Store и Xbox Live, где я мог проверить, сколько копий данная игра была продана.\n",
    "\n",
    "2. Days Gone – эта игра также получила признание критиков и была продана множество копий. Для поиска и анализа я использовал Metacritic в связке с основными игровыми ресурсами, такими как Steam, PlayStation Store и Xbox Live.\n",
    "\n",
    "3. Resident Evil Village – эта игра получила превосходные отзывы от критиков и является одним из самых продаваемых игр в это полугодие. Для поиска и анализа я использовал Metacritic в связке с основными игровыми ресурсами.\n",
    "\n",
    "4. God of War – очень популярная игра, получившая признание критиков. Для поиска и анализа я использовал Metacritic в связке с основными игровыми ресурсами.\n",
    "\n",
    "5. Ghost of Tsushima – очень популярная игра, получившая признание критиков. Для поиска и анализа\n",
    "я использовал Metacritic в связке с платформами PlayStation Store, Steam, Xbox Live и другими онлайн-ресурсами, чтобы получить полную картину продаж этой игры."
   ]
  },
  {
   "cell_type": "code",
   "execution_count": null,
   "id": "6e0718d4-e85f-4bfd-a5b0-b67cd7c7739f",
   "metadata": {},
   "outputs": [],
   "source": []
  }
 ],
 "metadata": {
  "kernelspec": {
   "display_name": "Python 3 (ipykernel)",
   "language": "python",
   "name": "python3"
  },
  "language_info": {
   "codemirror_mode": {
    "name": "ipython",
    "version": 3
   },
   "file_extension": ".py",
   "mimetype": "text/x-python",
   "name": "python",
   "nbconvert_exporter": "python",
   "pygments_lexer": "ipython3",
   "version": "3.9.12"
  }
 },
 "nbformat": 4,
 "nbformat_minor": 5
}
