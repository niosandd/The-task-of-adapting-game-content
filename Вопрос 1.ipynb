{
 "cells": [
  {
   "cell_type": "code",
   "execution_count": null,
   "id": "aeb14074-5691-425e-8148-763ee2042e3d",
   "metadata": {},
   "outputs": [],
   "source": [
    "import configparser\n",
    "import re\n",
    "import subprocess\n",
    "\n",
    "config = configparser.ConfigParser()\n",
    "config.read('config.ini')\n",
    "\n",
    "# Получаем разрешение экрана пользователя\n",
    "user_width = int(config.get('User', 'user_width'))\n",
    "user_height = int(config.get('User', 'user_height'))\n",
    "\n",
    "# Получаем список разрешений игры\n",
    "resolutions = config.get('Game', 'resolutions').split(',')\n",
    "\n",
    "best_fit = None\n",
    "difference = float('inf')\n",
    "\n",
    "# Рассматриваем все возможные разрешения и ищем наиболее подходящее\n",
    "for resolution in resolutions:\n",
    " pattern = r\"([0-9]+)x([0-9]+)\"\n",
    " res_list = re.findall(pattern, resolution)\n",
    "\n",
    " width = int(res_list[0][0])\n",
    " height = int(res_list[0][1])\n",
    "\n",
    " # Вычисляем расстояние между текущим разрешением и разрешением пользователя\n",
    " delta = abs(width - user_width) + abs(height - user_height)\n",
    " \n",
    " # Если расстояние меньше предыдущего наилучшего результата, запоминаем текущее\n",
    " if delta < difference:\n",
    "  difference = delta\n",
    "  best_fit = resolution\n",
    "\n",
    "# Обновляем настройки игры для оптимального разрешения\n",
    "config.set('Game', 'resolution', best_fit)\n",
    "\n",
    "# Записываем изменения в файл настроек\n",
    "with open('config.ini', 'w') as configfile:\n",
    " config.write(configfile)\n",
    "\n",
    "# Запускаем приложение Steam\n",
    "subprocess.run(['steam', '-bigpicture'])"
   ]
  }
 ],
 "metadata": {
  "kernelspec": {
   "display_name": "Python 3 (ipykernel)",
   "language": "python",
   "name": "python3"
  },
  "language_info": {
   "codemirror_mode": {
    "name": "ipython",
    "version": 3
   },
   "file_extension": ".py",
   "mimetype": "text/x-python",
   "name": "python",
   "nbconvert_exporter": "python",
   "pygments_lexer": "ipython3",
   "version": "3.9.12"
  }
 },
 "nbformat": 4,
 "nbformat_minor": 5
}
